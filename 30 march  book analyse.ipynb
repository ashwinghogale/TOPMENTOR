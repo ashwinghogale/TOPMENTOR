{
 "cells": [
  {
   "cell_type": "code",
   "execution_count": 51,
   "id": "153f3b25",
   "metadata": {},
   "outputs": [],
   "source": [
    "import pandas as pd\n"
   ]
  },
  {
   "cell_type": "code",
   "execution_count": 52,
   "id": "0ef2c247",
   "metadata": {},
   "outputs": [],
   "source": [
    "df = pd.read_csv('C:/Users/Ashwin/Documents/topmentor/Batch-59-Datasets-main/book_data.csv')"
   ]
  },
  {
   "cell_type": "code",
   "execution_count": 53,
   "id": "7746e35b",
   "metadata": {},
   "outputs": [
    {
     "data": {
      "text/html": [
       "<div>\n",
       "<style scoped>\n",
       "    .dataframe tbody tr th:only-of-type {\n",
       "        vertical-align: middle;\n",
       "    }\n",
       "\n",
       "    .dataframe tbody tr th {\n",
       "        vertical-align: top;\n",
       "    }\n",
       "\n",
       "    .dataframe thead th {\n",
       "        text-align: right;\n",
       "    }\n",
       "</style>\n",
       "<table border=\"1\" class=\"dataframe\">\n",
       "  <thead>\n",
       "    <tr style=\"text-align: right;\">\n",
       "      <th></th>\n",
       "      <th>Author_ID</th>\n",
       "      <th>Book_ISSN</th>\n",
       "      <th>Place_of_Publication</th>\n",
       "      <th>Year_of_Publication</th>\n",
       "      <th>Category</th>\n",
       "      <th>TotalSales</th>\n",
       "    </tr>\n",
       "  </thead>\n",
       "  <tbody>\n",
       "    <tr>\n",
       "      <th>0</th>\n",
       "      <td>13265</td>\n",
       "      <td>821631078-1</td>\n",
       "      <td>Tokyo</td>\n",
       "      <td>1964</td>\n",
       "      <td>Fantasy</td>\n",
       "      <td>14562.23</td>\n",
       "    </tr>\n",
       "    <tr>\n",
       "      <th>1</th>\n",
       "      <td>46875</td>\n",
       "      <td>506970332-3</td>\n",
       "      <td>NY</td>\n",
       "      <td>2007</td>\n",
       "      <td>Fantasy</td>\n",
       "      <td>57767.94</td>\n",
       "    </tr>\n",
       "    <tr>\n",
       "      <th>2</th>\n",
       "      <td>33339</td>\n",
       "      <td>682297776-7</td>\n",
       "      <td>london</td>\n",
       "      <td>1973</td>\n",
       "      <td>Horror</td>\n",
       "      <td>11704.38</td>\n",
       "    </tr>\n",
       "    <tr>\n",
       "      <th>3</th>\n",
       "      <td>46875</td>\n",
       "      <td>460648890-5</td>\n",
       "      <td>london</td>\n",
       "      <td>1975</td>\n",
       "      <td>Fantasy</td>\n",
       "      <td>43632.71</td>\n",
       "    </tr>\n",
       "    <tr>\n",
       "      <th>4</th>\n",
       "      <td>5487</td>\n",
       "      <td>326396560-3</td>\n",
       "      <td>NY</td>\n",
       "      <td>1976</td>\n",
       "      <td>Horror</td>\n",
       "      <td>54414.40</td>\n",
       "    </tr>\n",
       "  </tbody>\n",
       "</table>\n",
       "</div>"
      ],
      "text/plain": [
       "   Author_ID    Book_ISSN Place_of_Publication  Year_of_Publication Category  \\\n",
       "0      13265  821631078-1                Tokyo                 1964  Fantasy   \n",
       "1      46875  506970332-3                   NY                 2007  Fantasy   \n",
       "2      33339  682297776-7               london                 1973   Horror   \n",
       "3      46875  460648890-5               london                 1975  Fantasy   \n",
       "4       5487  326396560-3                   NY                 1976   Horror   \n",
       "\n",
       "   TotalSales  \n",
       "0    14562.23  \n",
       "1    57767.94  \n",
       "2    11704.38  \n",
       "3    43632.71  \n",
       "4    54414.40  "
      ]
     },
     "execution_count": 53,
     "metadata": {},
     "output_type": "execute_result"
    }
   ],
   "source": [
    "df.head()"
   ]
  },
  {
   "cell_type": "code",
   "execution_count": 54,
   "id": "add3a6ab",
   "metadata": {},
   "outputs": [
    {
     "data": {
      "text/plain": [
       "Author_ID                0\n",
       "Book_ISSN                0\n",
       "Place_of_Publication     0\n",
       "Year_of_Publication      0\n",
       "Category                41\n",
       "TotalSales              30\n",
       "dtype: int64"
      ]
     },
     "execution_count": 54,
     "metadata": {},
     "output_type": "execute_result"
    }
   ],
   "source": [
    "df.isna().sum()"
   ]
  },
  {
   "cell_type": "code",
   "execution_count": 39,
   "id": "909d1899",
   "metadata": {},
   "outputs": [
    {
     "data": {
      "text/plain": [
       "(1000, 6)"
      ]
     },
     "execution_count": 39,
     "metadata": {},
     "output_type": "execute_result"
    }
   ],
   "source": [
    "df.shape"
   ]
  },
  {
   "cell_type": "markdown",
   "id": "4d7703f0",
   "metadata": {},
   "source": [
    "Data Exploration"
   ]
  },
  {
   "cell_type": "code",
   "execution_count": 45,
   "id": "dad8257f",
   "metadata": {},
   "outputs": [
    {
     "data": {
      "text/html": [
       "<div>\n",
       "<style scoped>\n",
       "    .dataframe tbody tr th:only-of-type {\n",
       "        vertical-align: middle;\n",
       "    }\n",
       "\n",
       "    .dataframe tbody tr th {\n",
       "        vertical-align: top;\n",
       "    }\n",
       "\n",
       "    .dataframe thead th {\n",
       "        text-align: right;\n",
       "    }\n",
       "</style>\n",
       "<table border=\"1\" class=\"dataframe\">\n",
       "  <thead>\n",
       "    <tr style=\"text-align: right;\">\n",
       "      <th></th>\n",
       "      <th>Author_ID</th>\n",
       "      <th>Book_ISSN</th>\n",
       "      <th>Place_of_Publication</th>\n",
       "      <th>Year_of_Publication</th>\n",
       "      <th>Category</th>\n",
       "      <th>TotalSales</th>\n",
       "    </tr>\n",
       "  </thead>\n",
       "  <tbody>\n",
       "    <tr>\n",
       "      <th>count</th>\n",
       "      <td>1000.000000</td>\n",
       "      <td>1000</td>\n",
       "      <td>1000</td>\n",
       "      <td>1000.00000</td>\n",
       "      <td>959</td>\n",
       "      <td>9.700000e+02</td>\n",
       "    </tr>\n",
       "    <tr>\n",
       "      <th>unique</th>\n",
       "      <td>NaN</td>\n",
       "      <td>1000</td>\n",
       "      <td>7</td>\n",
       "      <td>NaN</td>\n",
       "      <td>5</td>\n",
       "      <td>NaN</td>\n",
       "    </tr>\n",
       "    <tr>\n",
       "      <th>top</th>\n",
       "      <td>NaN</td>\n",
       "      <td>077128260-5</td>\n",
       "      <td>New York</td>\n",
       "      <td>NaN</td>\n",
       "      <td>Horror</td>\n",
       "      <td>NaN</td>\n",
       "    </tr>\n",
       "    <tr>\n",
       "      <th>freq</th>\n",
       "      <td>NaN</td>\n",
       "      <td>1</td>\n",
       "      <td>154</td>\n",
       "      <td>NaN</td>\n",
       "      <td>207</td>\n",
       "      <td>NaN</td>\n",
       "    </tr>\n",
       "    <tr>\n",
       "      <th>mean</th>\n",
       "      <td>14423.444000</td>\n",
       "      <td>NaN</td>\n",
       "      <td>NaN</td>\n",
       "      <td>1984.01300</td>\n",
       "      <td>NaN</td>\n",
       "      <td>4.340683e+04</td>\n",
       "    </tr>\n",
       "    <tr>\n",
       "      <th>std</th>\n",
       "      <td>19069.330766</td>\n",
       "      <td>NaN</td>\n",
       "      <td>NaN</td>\n",
       "      <td>20.27792</td>\n",
       "      <td>NaN</td>\n",
       "      <td>2.557979e+05</td>\n",
       "    </tr>\n",
       "    <tr>\n",
       "      <th>min</th>\n",
       "      <td>565.000000</td>\n",
       "      <td>NaN</td>\n",
       "      <td>NaN</td>\n",
       "      <td>1950.00000</td>\n",
       "      <td>NaN</td>\n",
       "      <td>5.099330e+03</td>\n",
       "    </tr>\n",
       "    <tr>\n",
       "      <th>25%</th>\n",
       "      <td>1235.000000</td>\n",
       "      <td>NaN</td>\n",
       "      <td>NaN</td>\n",
       "      <td>1966.75000</td>\n",
       "      <td>NaN</td>\n",
       "      <td>1.936011e+04</td>\n",
       "    </tr>\n",
       "    <tr>\n",
       "      <th>50%</th>\n",
       "      <td>5487.000000</td>\n",
       "      <td>NaN</td>\n",
       "      <td>NaN</td>\n",
       "      <td>1983.00000</td>\n",
       "      <td>NaN</td>\n",
       "      <td>3.396824e+04</td>\n",
       "    </tr>\n",
       "    <tr>\n",
       "      <th>75%</th>\n",
       "      <td>23628.000000</td>\n",
       "      <td>NaN</td>\n",
       "      <td>NaN</td>\n",
       "      <td>2002.00000</td>\n",
       "      <td>NaN</td>\n",
       "      <td>4.645848e+04</td>\n",
       "    </tr>\n",
       "    <tr>\n",
       "      <th>max</th>\n",
       "      <td>65569.000000</td>\n",
       "      <td>NaN</td>\n",
       "      <td>NaN</td>\n",
       "      <td>2021.00000</td>\n",
       "      <td>NaN</td>\n",
       "      <td>7.825635e+06</td>\n",
       "    </tr>\n",
       "  </tbody>\n",
       "</table>\n",
       "</div>"
      ],
      "text/plain": [
       "           Author_ID    Book_ISSN Place_of_Publication  Year_of_Publication  \\\n",
       "count    1000.000000         1000                 1000           1000.00000   \n",
       "unique           NaN         1000                    7                  NaN   \n",
       "top              NaN  077128260-5             New York                  NaN   \n",
       "freq             NaN            1                  154                  NaN   \n",
       "mean    14423.444000          NaN                  NaN           1984.01300   \n",
       "std     19069.330766          NaN                  NaN             20.27792   \n",
       "min       565.000000          NaN                  NaN           1950.00000   \n",
       "25%      1235.000000          NaN                  NaN           1966.75000   \n",
       "50%      5487.000000          NaN                  NaN           1983.00000   \n",
       "75%     23628.000000          NaN                  NaN           2002.00000   \n",
       "max     65569.000000          NaN                  NaN           2021.00000   \n",
       "\n",
       "       Category    TotalSales  \n",
       "count       959  9.700000e+02  \n",
       "unique        5           NaN  \n",
       "top      Horror           NaN  \n",
       "freq        207           NaN  \n",
       "mean        NaN  4.340683e+04  \n",
       "std         NaN  2.557979e+05  \n",
       "min         NaN  5.099330e+03  \n",
       "25%         NaN  1.936011e+04  \n",
       "50%         NaN  3.396824e+04  \n",
       "75%         NaN  4.645848e+04  \n",
       "max         NaN  7.825635e+06  "
      ]
     },
     "execution_count": 45,
     "metadata": {},
     "output_type": "execute_result"
    }
   ],
   "source": [
    "df.describe(include='all')"
   ]
  },
  {
   "cell_type": "code",
   "execution_count": 50,
   "id": "d1387ddd",
   "metadata": {},
   "outputs": [
    {
     "data": {
      "text/plain": [
       "46458.4775"
      ]
     },
     "execution_count": 50,
     "metadata": {},
     "output_type": "execute_result"
    }
   ],
   "source": [
    "df['TotalSales'].quantile(0.75)"
   ]
  }
 ],
 "metadata": {
  "kernelspec": {
   "display_name": "Python 3",
   "language": "python",
   "name": "python3"
  },
  "language_info": {
   "codemirror_mode": {
    "name": "ipython",
    "version": 3
   },
   "file_extension": ".py",
   "mimetype": "text/x-python",
   "name": "python",
   "nbconvert_exporter": "python",
   "pygments_lexer": "ipython3",
   "version": "3.8.8"
  }
 },
 "nbformat": 4,
 "nbformat_minor": 5
}
