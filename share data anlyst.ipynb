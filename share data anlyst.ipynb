{
 "cells": [
  {
   "cell_type": "markdown",
   "id": "5b809016",
   "metadata": {},
   "source": [
    "# step 1 downloading the date"
   ]
  },
  {
   "cell_type": "markdown",
   "id": "fe3d322f",
   "metadata": {},
   "source": [
    "1.download the data\n",
    "2.extracting the data\n",
    "3.storing the data\n",
    "4.analyse the data"
   ]
  },
  {
   "cell_type": "code",
   "execution_count": 1,
   "id": "aad476bf",
   "metadata": {},
   "outputs": [],
   "source": [
    "##import the library\n",
    "import os \n",
    "import requests\n",
    "from bs4 import BeautifulSoup\n",
    "import warnings\n",
    "warnings.filterwarnings('ignore')"
   ]
  },
  {
   "cell_type": "code",
   "execution_count": 2,
   "id": "b52446cc",
   "metadata": {},
   "outputs": [],
   "source": [
    "##url of website\n",
    "url = 'https://finance.yahoo.com/quote/000001.SS/history?p=000001.SS'\n",
    "\n",
    "## making request to get the data\n",
    "response = requests.get(url)\n",
    "\n"
   ]
  },
  {
   "cell_type": "code",
   "execution_count": 3,
   "id": "24ed1009",
   "metadata": {},
   "outputs": [
    {
     "data": {
      "text/plain": [
       "b'<!DOCTYPE html>\\n  <html lang=\"en-us\"><head>\\n  <meta http-equiv=\"content-type\" content=\"text/html; charset=UTF-8\">\\n      <meta charset=\"utf-8\">\\n      <title>Yahoo</title>\\n      <meta name=\"viewport\" content=\"width=device-width,initial-scale=1,minimal-ui\">\\n      <meta http-equiv=\"X-UA-Compatible\" content=\"IE=edge,chrome=1\">\\n      <style>\\n  html {\\n      height: 100%;\\n  }\\n  body {\\n      background: #fafafc url(https://s.yimg.com/nn/img/sad-panda-201402200631.png) 50% 50%;\\n      background-size: cover;\\n      height: 100%;\\n      text-align: center;\\n      font: 300 18px \"helvetica neue\", helvetica, verdana, tahoma, arial, sans-serif;\\n  }\\n  table {\\n      height: 100%;\\n      width: 100%;\\n      table-layout: fixed;\\n      border-collapse: collapse;\\n      border-spacing: 0;\\n      border: none;\\n  }\\n  h1 {\\n      font-size: 42px;\\n      font-weight: 400;\\n      color: #400090;\\n  }\\n  p {\\n      color: #1A1A1A;\\n  }\\n  #message-1 {\\n      font-weight: bold;\\n      margin: 0;\\n  }\\n  #message-2 {\\n      display: inline-block;\\n      *display: inline;\\n      zoom: 1;\\n      max-width: 17em;\\n      _width: 17em;\\n  }\\n      </style>\\n  <script>\\n    document.write(\\'<img src=\"//geo.yahoo.com/b?s=1197757129&t=\\'+new Date().getTime()+\\'&src=aws&err_url=\\'+encodeURIComponent(document.URL)+\\'&err=%<pssc>&test=\\'+encodeURIComponent(\\'%<{Bucket}cqh[:200]>\\')+\\'\" width=\"0px\" height=\"0px\"/>\\');var beacon = new Image();beacon.src=\"//bcn.fp.yahoo.com/p?s=1197757129&t=\"+new Date().getTime()+\"&src=aws&err_url=\"+encodeURIComponent(document.URL)+\"&err=%<pssc>&test=\"+encodeURIComponent(\\'%<{Bucket}cqh[:200]>\\');\\n  </script>\\n  </head>\\n  <body>\\n  <!-- status code : 404 -->\\n  <!-- Not Found on Server -->\\n  <table>\\n  <tbody><tr>\\n      <td>\\n      <img src=\"https://s.yimg.com/rz/p/yahoo_frontpage_en-US_s_f_p_205x58_frontpage.png\" alt=\"Yahoo Logo\">\\n      <h1 style=\"margin-top:20px;\">Will be right back...</h1>\\n      <p id=\"message-1\">Thank you for your patience.</p>\\n      <p id=\"message-2\">Our engineers are working quickly to resolve the issue.</p>\\n      </td>\\n  </tr>\\n  </tbody></table>\\n  </body></html>'"
      ]
     },
     "execution_count": 3,
     "metadata": {},
     "output_type": "execute_result"
    }
   ],
   "source": [
    "response.content"
   ]
  },
  {
   "cell_type": "markdown",
   "id": "1706e1e5",
   "metadata": {},
   "source": [
    "# step2"
   ]
  },
  {
   "cell_type": "code",
   "execution_count": 18,
   "id": "079fdf02",
   "metadata": {},
   "outputs": [
    {
     "data": {
      "text/plain": [
       "<!DOCTYPE html>\n",
       "\n",
       "<html lang=\"en-us\"><head>\n",
       "<meta content=\"text/html; charset=utf-8\" http-equiv=\"content-type\"/>\n",
       "<meta charset=\"utf-8\"/>\n",
       "<title>Yahoo</title>\n",
       "<meta content=\"width=device-width,initial-scale=1,minimal-ui\" name=\"viewport\"/>\n",
       "<meta content=\"IE=edge,chrome=1\" http-equiv=\"X-UA-Compatible\"/>\n",
       "<style>\n",
       "  html {\n",
       "      height: 100%;\n",
       "  }\n",
       "  body {\n",
       "      background: #fafafc url(https://s.yimg.com/nn/img/sad-panda-201402200631.png) 50% 50%;\n",
       "      background-size: cover;\n",
       "      height: 100%;\n",
       "      text-align: center;\n",
       "      font: 300 18px \"helvetica neue\", helvetica, verdana, tahoma, arial, sans-serif;\n",
       "  }\n",
       "  table {\n",
       "      height: 100%;\n",
       "      width: 100%;\n",
       "      table-layout: fixed;\n",
       "      border-collapse: collapse;\n",
       "      border-spacing: 0;\n",
       "      border: none;\n",
       "  }\n",
       "  h1 {\n",
       "      font-size: 42px;\n",
       "      font-weight: 400;\n",
       "      color: #400090;\n",
       "  }\n",
       "  p {\n",
       "      color: #1A1A1A;\n",
       "  }\n",
       "  #message-1 {\n",
       "      font-weight: bold;\n",
       "      margin: 0;\n",
       "  }\n",
       "  #message-2 {\n",
       "      display: inline-block;\n",
       "      *display: inline;\n",
       "      zoom: 1;\n",
       "      max-width: 17em;\n",
       "      _width: 17em;\n",
       "  }\n",
       "      </style>\n",
       "<script>\n",
       "    document.write('<img src=\"//geo.yahoo.com/b?s=1197757129&t='+new Date().getTime()+'&src=aws&err_url='+encodeURIComponent(document.URL)+'&err=%<pssc>&test='+encodeURIComponent('%<{Bucket}cqh[:200]>')+'\" width=\"0px\" height=\"0px\"/>');var beacon = new Image();beacon.src=\"//bcn.fp.yahoo.com/p?s=1197757129&t=\"+new Date().getTime()+\"&src=aws&err_url=\"+encodeURIComponent(document.URL)+\"&err=%<pssc>&test=\"+encodeURIComponent('%<{Bucket}cqh[:200]>');\n",
       "  </script>\n",
       "</head>\n",
       "<body>\n",
       "<!-- status code : 404 -->\n",
       "<!-- Not Found on Server -->\n",
       "<table>\n",
       "<tbody><tr>\n",
       "<td>\n",
       "<img alt=\"Yahoo Logo\" src=\"https://s.yimg.com/rz/p/yahoo_frontpage_en-US_s_f_p_205x58_frontpage.png\"/>\n",
       "<h1 style=\"margin-top:20px;\">Will be right back...</h1>\n",
       "<p id=\"message-1\">Thank you for your patience.</p>\n",
       "<p id=\"message-2\">Our engineers are working quickly to resolve the issue.</p>\n",
       "</td>\n",
       "</tr>\n",
       "</tbody></table>\n",
       "</body></html>"
      ]
     },
     "execution_count": 18,
     "metadata": {},
     "output_type": "execute_result"
    }
   ],
   "source": [
    "##put the fetched data in beatiful soap\n",
    "soup =BeautifulSoup(response.content,'html.parser')\n",
    "soup"
   ]
  },
  {
   "cell_type": "code",
   "execution_count": 31,
   "id": "75c88d3a",
   "metadata": {},
   "outputs": [
    {
     "data": {
      "text/plain": [
       "[]"
      ]
     },
     "execution_count": 31,
     "metadata": {},
     "output_type": "execute_result"
    }
   ],
   "source": [
    "##renoving the noise from the fetched data\n",
    "##data = soup.find('table', {'class':'W(100%) M(0)'})\n",
    "data = soup.find('table')\n",
    "data.findAll('span')"
   ]
  }
 ],
 "metadata": {
  "kernelspec": {
   "display_name": "Python 3",
   "language": "python",
   "name": "python3"
  },
  "language_info": {
   "codemirror_mode": {
    "name": "ipython",
    "version": 3
   },
   "file_extension": ".py",
   "mimetype": "text/x-python",
   "name": "python",
   "nbconvert_exporter": "python",
   "pygments_lexer": "ipython3",
   "version": "3.8.8"
  }
 },
 "nbformat": 4,
 "nbformat_minor": 5
}
