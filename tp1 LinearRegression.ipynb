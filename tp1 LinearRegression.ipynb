{
 "cells": [
  {
   "cell_type": "code",
   "execution_count": 32,
   "id": "381c12e8",
   "metadata": {},
   "outputs": [
    {
     "data": {
      "text/html": [
       "<div>\n",
       "<style scoped>\n",
       "    .dataframe tbody tr th:only-of-type {\n",
       "        vertical-align: middle;\n",
       "    }\n",
       "\n",
       "    .dataframe tbody tr th {\n",
       "        vertical-align: top;\n",
       "    }\n",
       "\n",
       "    .dataframe thead th {\n",
       "        text-align: right;\n",
       "    }\n",
       "</style>\n",
       "<table border=\"1\" class=\"dataframe\">\n",
       "  <thead>\n",
       "    <tr style=\"text-align: right;\">\n",
       "      <th></th>\n",
       "      <th>YearsExperience</th>\n",
       "      <th>Salary</th>\n",
       "    </tr>\n",
       "  </thead>\n",
       "  <tbody>\n",
       "    <tr>\n",
       "      <th>0</th>\n",
       "      <td>1.1</td>\n",
       "      <td>39343.0</td>\n",
       "    </tr>\n",
       "    <tr>\n",
       "      <th>1</th>\n",
       "      <td>1.3</td>\n",
       "      <td>46205.0</td>\n",
       "    </tr>\n",
       "    <tr>\n",
       "      <th>2</th>\n",
       "      <td>1.5</td>\n",
       "      <td>37731.0</td>\n",
       "    </tr>\n",
       "    <tr>\n",
       "      <th>3</th>\n",
       "      <td>2.0</td>\n",
       "      <td>43525.0</td>\n",
       "    </tr>\n",
       "    <tr>\n",
       "      <th>4</th>\n",
       "      <td>2.2</td>\n",
       "      <td>39891.0</td>\n",
       "    </tr>\n",
       "  </tbody>\n",
       "</table>\n",
       "</div>"
      ],
      "text/plain": [
       "   YearsExperience   Salary\n",
       "0              1.1  39343.0\n",
       "1              1.3  46205.0\n",
       "2              1.5  37731.0\n",
       "3              2.0  43525.0\n",
       "4              2.2  39891.0"
      ]
     },
     "execution_count": 32,
     "metadata": {},
     "output_type": "execute_result"
    }
   ],
   "source": [
    "import pandas as pd\n",
    "s1 = pd.read_csv(\"C:/Users/Ashwin/Documents/topmentor/Batch-59-Datasets-main./Salary_Data.csv\")\n",
    "s1.head()"
   ]
  },
  {
   "cell_type": "code",
   "execution_count": 33,
   "id": "c805ac1b",
   "metadata": {},
   "outputs": [
    {
     "data": {
      "text/plain": [
       "(30, 2)"
      ]
     },
     "execution_count": 33,
     "metadata": {},
     "output_type": "execute_result"
    }
   ],
   "source": [
    "s1.shape"
   ]
  },
  {
   "cell_type": "markdown",
   "id": "5d08846b",
   "metadata": {},
   "source": [
    "X is independant variable , Y is dependent variables"
   ]
  },
  {
   "cell_type": "code",
   "execution_count": 37,
   "id": "e1f22d30",
   "metadata": {},
   "outputs": [
    {
     "data": {
      "text/plain": [
       "array([[ 1.1],\n",
       "       [ 1.3],\n",
       "       [ 1.5],\n",
       "       [ 2. ],\n",
       "       [ 2.2],\n",
       "       [ 2.9],\n",
       "       [ 3. ],\n",
       "       [ 3.2],\n",
       "       [ 3.2],\n",
       "       [ 3.7],\n",
       "       [ 3.9],\n",
       "       [ 4. ],\n",
       "       [ 4. ],\n",
       "       [ 4.1],\n",
       "       [ 4.5],\n",
       "       [ 4.9],\n",
       "       [ 5.1],\n",
       "       [ 5.3],\n",
       "       [ 5.9],\n",
       "       [ 6. ],\n",
       "       [ 6.8],\n",
       "       [ 7.1],\n",
       "       [ 7.9],\n",
       "       [ 8.2],\n",
       "       [ 8.7],\n",
       "       [ 9. ],\n",
       "       [ 9.5],\n",
       "       [ 9.6],\n",
       "       [10.3],\n",
       "       [10.5]])"
      ]
     },
     "execution_count": 37,
     "metadata": {},
     "output_type": "execute_result"
    }
   ],
   "source": [
    "X = s1.iloc[:,:-1].values\n",
    "X\n",
    "\n"
   ]
  },
  {
   "cell_type": "code",
   "execution_count": 38,
   "id": "7c31c7cf",
   "metadata": {},
   "outputs": [
    {
     "data": {
      "text/plain": [
       "(30,)"
      ]
     },
     "execution_count": 38,
     "metadata": {},
     "output_type": "execute_result"
    }
   ],
   "source": [
    "y = s1.iloc[:,1].values\n",
    "y.shape"
   ]
  },
  {
   "cell_type": "code",
   "execution_count": 8,
   "id": "3b67f29c",
   "metadata": {},
   "outputs": [],
   "source": [
    "from sklearn.model_selection import train_test_split\n"
   ]
  },
  {
   "cell_type": "code",
   "execution_count": 14,
   "id": "492ce30d",
   "metadata": {},
   "outputs": [],
   "source": [
    "X_train,X_test,y_train,y_test = train_test_split(X,y) \n",
    "\n"
   ]
  },
  {
   "cell_type": "code",
   "execution_count": 40,
   "id": "6c7eb3a3",
   "metadata": {},
   "outputs": [
    {
     "data": {
      "text/plain": [
       "((22, 1), (8, 1))"
      ]
     },
     "execution_count": 40,
     "metadata": {},
     "output_type": "execute_result"
    }
   ],
   "source": [
    "X_train.shape,X_test.shape"
   ]
  },
  {
   "cell_type": "code",
   "execution_count": 41,
   "id": "9d9e2f06",
   "metadata": {},
   "outputs": [
    {
     "data": {
      "text/plain": [
       "((22,), (8,))"
      ]
     },
     "execution_count": 41,
     "metadata": {},
     "output_type": "execute_result"
    }
   ],
   "source": [
    "y_train.shape,y_test.shape"
   ]
  },
  {
   "cell_type": "markdown",
   "id": "87733e5a",
   "metadata": {},
   "source": [
    "# linear regression model"
   ]
  },
  {
   "cell_type": "code",
   "execution_count": 43,
   "id": "1c4cd557",
   "metadata": {},
   "outputs": [],
   "source": [
    "from sklearn.linear_model import LinearRegression"
   ]
  },
  {
   "cell_type": "code",
   "execution_count": 44,
   "id": "aa856d75",
   "metadata": {},
   "outputs": [
    {
     "data": {
      "text/plain": [
       "LinearRegression()"
      ]
     },
     "execution_count": 44,
     "metadata": {},
     "output_type": "execute_result"
    }
   ],
   "source": [
    "model = LinearRegression() ## y = mx + c\n",
    "model"
   ]
  },
  {
   "cell_type": "code",
   "execution_count": 48,
   "id": "bdaf9d06",
   "metadata": {},
   "outputs": [
    {
     "name": "stdout",
     "output_type": "stream",
     "text": [
      "the training of model is completed\n"
     ]
    }
   ],
   "source": [
    "training = model.fit(X_train,y_train) ## we  required label and raw data\n",
    "print(\"the training of model is completed\")\n"
   ]
  },
  {
   "cell_type": "code",
   "execution_count": 52,
   "id": "4c4d57c0",
   "metadata": {},
   "outputs": [],
   "source": [
    "m =training.coef_"
   ]
  },
  {
   "cell_type": "code",
   "execution_count": 53,
   "id": "0db69952",
   "metadata": {},
   "outputs": [],
   "source": [
    "c =training.intercept_"
   ]
  },
  {
   "cell_type": "code",
   "execution_count": 55,
   "id": "58199b19",
   "metadata": {},
   "outputs": [
    {
     "data": {
      "text/plain": [
       "array([[ 34138.68187604],\n",
       "       [ 36114.60127949],\n",
       "       [ 38090.52068294],\n",
       "       [ 43030.31919157],\n",
       "       [ 45006.23859502],\n",
       "       [ 51921.9565071 ],\n",
       "       [ 52909.91620883],\n",
       "       [ 54885.83561228],\n",
       "       [ 54885.83561228],\n",
       "       [ 59825.6341209 ],\n",
       "       [ 61801.55352435],\n",
       "       [ 62789.51322608],\n",
       "       [ 62789.51322608],\n",
       "       [ 63777.4729278 ],\n",
       "       [ 67729.31173471],\n",
       "       [ 71681.15054161],\n",
       "       [ 73657.06994506],\n",
       "       [ 75632.98934851],\n",
       "       [ 81560.74755886],\n",
       "       [ 82548.70726059],\n",
       "       [ 90452.38487439],\n",
       "       [ 93416.26397957],\n",
       "       [101319.94159337],\n",
       "       [104283.82069855],\n",
       "       [109223.61920717],\n",
       "       [112187.49831235],\n",
       "       [117127.29682098],\n",
       "       [118115.2565227 ],\n",
       "       [125030.97443478],\n",
       "       [127006.89383823]])"
      ]
     },
     "execution_count": 55,
     "metadata": {},
     "output_type": "execute_result"
    }
   ],
   "source": [
    "\n",
    "y = m*X + c\n",
    "y"
   ]
  },
  {
   "cell_type": "raw",
   "id": "ca854f02",
   "metadata": {},
   "source": [
    "X is here year of exerience\n",
    "we can predict the things by giving the year of experience"
   ]
  },
  {
   "cell_type": "code",
   "execution_count": 62,
   "id": "7099f68a",
   "metadata": {},
   "outputs": [
    {
     "data": {
      "text/plain": [
       "array([72669.11024333])"
      ]
     },
     "execution_count": 62,
     "metadata": {},
     "output_type": "execute_result"
    }
   ],
   "source": [
    "x1 = 5 \n",
    "y1 = m*x1+c \n",
    "y1  ## this is predicted salary for 5 year"
   ]
  },
  {
   "cell_type": "code",
   "execution_count": 64,
   "id": "de345a19",
   "metadata": {},
   "outputs": [
    {
     "data": {
      "text/plain": [
       "array([ 61801.55352435,  62789.51322608, 112187.49831235,  59825.6341209 ,\n",
       "       127006.89383823,  75632.98934851,  36114.60127949,  54885.83561228])"
      ]
     },
     "execution_count": 64,
     "metadata": {},
     "output_type": "execute_result"
    }
   ],
   "source": [
    "## find accuracy or validating through prediction\n",
    "pred = model.predict(X_test)\n",
    "pred"
   ]
  },
  {
   "cell_type": "code",
   "execution_count": 68,
   "id": "5ebeecc4",
   "metadata": {},
   "outputs": [
    {
     "data": {
      "text/html": [
       "<div>\n",
       "<style scoped>\n",
       "    .dataframe tbody tr th:only-of-type {\n",
       "        vertical-align: middle;\n",
       "    }\n",
       "\n",
       "    .dataframe tbody tr th {\n",
       "        vertical-align: top;\n",
       "    }\n",
       "\n",
       "    .dataframe thead th {\n",
       "        text-align: right;\n",
       "    }\n",
       "</style>\n",
       "<table border=\"1\" class=\"dataframe\">\n",
       "  <thead>\n",
       "    <tr style=\"text-align: right;\">\n",
       "      <th></th>\n",
       "      <th>Acutal Data</th>\n",
       "      <th>predicted Data</th>\n",
       "      <th>residuals</th>\n",
       "    </tr>\n",
       "  </thead>\n",
       "  <tbody>\n",
       "    <tr>\n",
       "      <th>0</th>\n",
       "      <td>63218.0</td>\n",
       "      <td>61801.553524</td>\n",
       "      <td>1416.446476</td>\n",
       "    </tr>\n",
       "    <tr>\n",
       "      <th>1</th>\n",
       "      <td>55794.0</td>\n",
       "      <td>62789.513226</td>\n",
       "      <td>-6995.513226</td>\n",
       "    </tr>\n",
       "    <tr>\n",
       "      <th>2</th>\n",
       "      <td>105582.0</td>\n",
       "      <td>112187.498312</td>\n",
       "      <td>-6605.498312</td>\n",
       "    </tr>\n",
       "    <tr>\n",
       "      <th>3</th>\n",
       "      <td>57189.0</td>\n",
       "      <td>59825.634121</td>\n",
       "      <td>-2636.634121</td>\n",
       "    </tr>\n",
       "    <tr>\n",
       "      <th>4</th>\n",
       "      <td>121872.0</td>\n",
       "      <td>127006.893838</td>\n",
       "      <td>-5134.893838</td>\n",
       "    </tr>\n",
       "    <tr>\n",
       "      <th>5</th>\n",
       "      <td>83088.0</td>\n",
       "      <td>75632.989349</td>\n",
       "      <td>7455.010651</td>\n",
       "    </tr>\n",
       "    <tr>\n",
       "      <th>6</th>\n",
       "      <td>46205.0</td>\n",
       "      <td>36114.601279</td>\n",
       "      <td>10090.398721</td>\n",
       "    </tr>\n",
       "    <tr>\n",
       "      <th>7</th>\n",
       "      <td>64445.0</td>\n",
       "      <td>54885.835612</td>\n",
       "      <td>9559.164388</td>\n",
       "    </tr>\n",
       "  </tbody>\n",
       "</table>\n",
       "</div>"
      ],
      "text/plain": [
       "   Acutal Data  predicted Data     residuals\n",
       "0      63218.0    61801.553524   1416.446476\n",
       "1      55794.0    62789.513226  -6995.513226\n",
       "2     105582.0   112187.498312  -6605.498312\n",
       "3      57189.0    59825.634121  -2636.634121\n",
       "4     121872.0   127006.893838  -5134.893838\n",
       "5      83088.0    75632.989349   7455.010651\n",
       "6      46205.0    36114.601279  10090.398721\n",
       "7      64445.0    54885.835612   9559.164388"
      ]
     },
     "execution_count": 68,
     "metadata": {},
     "output_type": "execute_result"
    }
   ],
   "source": [
    "## for validation\n",
    "## residuals \n",
    "## actual - predicted Data\n",
    "val = pd.DataFrame({'Acutal Data': y_test,'predicted Data':pred,'residuals': y_test - pred})\n",
    "val"
   ]
  },
  {
   "cell_type": "code",
   "execution_count": 69,
   "id": "8e565c68",
   "metadata": {},
   "outputs": [
    {
     "data": {
      "text/plain": [
       "7148.4807378024125"
      ]
     },
     "execution_count": 69,
     "metadata": {},
     "output_type": "execute_result"
    }
   ],
   "source": [
    "val.residuals.sum() \n",
    "#it is neccesary to nearest one"
   ]
  },
  {
   "cell_type": "markdown",
   "id": "a45338c0",
   "metadata": {},
   "source": [
    "#    Tunning of the data\n",
    "by LinearRegression(n_jobs)\n",
    "reduce the train-test_split(test_size= )\n",
    "Do It U R Self Or watch 28 feb video of 45 Min\n"
   ]
  },
  {
   "cell_type": "markdown",
   "id": "ce185909",
   "metadata": {},
   "source": [
    "# to reduce errors  By metrics\n"
   ]
  },
  {
   "cell_type": "code",
   "execution_count": 73,
   "id": "6adc37ad",
   "metadata": {},
   "outputs": [
    {
     "data": {
      "text/plain": [
       "0.9240942613777232"
      ]
     },
     "execution_count": 73,
     "metadata": {},
     "output_type": "execute_result"
    }
   ],
   "source": [
    "from sklearn.metrics import r2_score,mean_absolute_error,mean_squared_error\n",
    "r2_score(y_test,pred)\n",
    "## this is accuracy of modell 0.92"
   ]
  },
  {
   "cell_type": "code",
   "execution_count": 75,
   "id": "f3a50b4a",
   "metadata": {},
   "outputs": [
    {
     "data": {
      "text/plain": [
       "0.07590573862227679"
      ]
     },
     "execution_count": 75,
     "metadata": {},
     "output_type": "execute_result"
    }
   ],
   "source": [
    "errors = 1 - r2_score(y_test,pred)\n",
    "errors"
   ]
  },
  {
   "cell_type": "code",
   "execution_count": 78,
   "id": "d89605cc",
   "metadata": {},
   "outputs": [
    {
     "data": {
      "text/plain": [
       "-6235.694966616575"
      ]
     },
     "execution_count": 78,
     "metadata": {},
     "output_type": "execute_result"
    }
   ],
   "source": [
    "a1 = mean_absolute_error(y_test,pred)\n",
    "errors = 1 - a1 \n",
    "errors"
   ]
  },
  {
   "cell_type": "code",
   "execution_count": 79,
   "id": "ff81bc73",
   "metadata": {},
   "outputs": [
    {
     "data": {
      "text/plain": [
       "-47083256.75383612"
      ]
     },
     "execution_count": 79,
     "metadata": {},
     "output_type": "execute_result"
    }
   ],
   "source": [
    "a2 = mean_squared_error(y_test,pred)\n",
    "errors = 1 - a2\n",
    "errors\n",
    "\n"
   ]
  },
  {
   "cell_type": "markdown",
   "id": "506c0e8c",
   "metadata": {},
   "source": [
    "now try to check with the increse or decrese with data test size\n"
   ]
  }
 ],
 "metadata": {
  "kernelspec": {
   "display_name": "Python 3",
   "language": "python",
   "name": "python3"
  },
  "language_info": {
   "codemirror_mode": {
    "name": "ipython",
    "version": 3
   },
   "file_extension": ".py",
   "mimetype": "text/x-python",
   "name": "python",
   "nbconvert_exporter": "python",
   "pygments_lexer": "ipython3",
   "version": "3.8.8"
  }
 },
 "nbformat": 4,
 "nbformat_minor": 5
}
