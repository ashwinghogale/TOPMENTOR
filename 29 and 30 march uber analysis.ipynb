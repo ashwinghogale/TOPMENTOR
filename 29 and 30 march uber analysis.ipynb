{
 "cells": [
  {
   "cell_type": "code",
   "execution_count": 47,
   "id": "9b26a94a",
   "metadata": {},
   "outputs": [],
   "source": [
    "import pandas as pd\n",
    "import urllib  \n",
    "import csv"
   ]
  },
  {
   "cell_type": "code",
   "execution_count": 100,
   "id": "0a2ca915",
   "metadata": {},
   "outputs": [],
   "source": [
    "url = 'C:/Users/Ashwin/Documents/topmentor/Batch-59-Datasets-main/Uber_raw_2019.csv'\n"
   ]
  },
  {
   "cell_type": "code",
   "execution_count": 101,
   "id": "9ede941a",
   "metadata": {},
   "outputs": [],
   "source": [
    "df = pd.read_csv(url)"
   ]
  },
  {
   "cell_type": "code",
   "execution_count": 54,
   "id": "30e5f3e8",
   "metadata": {},
   "outputs": [
    {
     "data": {
      "text/plain": [
       "Date/Time    0\n",
       "Lat          0\n",
       "Lon          0\n",
       "Base         0\n",
       "dtype: int64"
      ]
     },
     "execution_count": 54,
     "metadata": {},
     "output_type": "execute_result"
    }
   ],
   "source": [
    "df.isna().sum()"
   ]
  },
  {
   "cell_type": "code",
   "execution_count": 55,
   "id": "30550172",
   "metadata": {},
   "outputs": [
    {
     "name": "stdout",
     "output_type": "stream",
     "text": [
      "<class 'pandas.core.frame.DataFrame'>\n",
      "RangeIndex: 409565 entries, 0 to 409564\n",
      "Data columns (total 4 columns):\n",
      " #   Column     Non-Null Count   Dtype  \n",
      "---  ------     --------------   -----  \n",
      " 0   Date/Time  409565 non-null  object \n",
      " 1   Lat        409565 non-null  float64\n",
      " 2   Lon        409565 non-null  float64\n",
      " 3   Base       409565 non-null  object \n",
      "dtypes: float64(2), object(2)\n",
      "memory usage: 12.5+ MB\n"
     ]
    }
   ],
   "source": [
    "df.info()"
   ]
  },
  {
   "cell_type": "code",
   "execution_count": 56,
   "id": "16790a2f",
   "metadata": {},
   "outputs": [
    {
     "name": "stdout",
     "output_type": "stream",
     "text": [
      "<class 'pandas.core.frame.DataFrame'>\n",
      "RangeIndex: 409565 entries, 0 to 409564\n",
      "Data columns (total 4 columns):\n",
      " #   Column     Non-Null Count   Dtype         \n",
      "---  ------     --------------   -----         \n",
      " 0   Date/Time  409565 non-null  datetime64[ns]\n",
      " 1   Lat        409565 non-null  float64       \n",
      " 2   Lon        409565 non-null  float64       \n",
      " 3   Base       409565 non-null  object        \n",
      "dtypes: datetime64[ns](1), float64(2), object(1)\n",
      "memory usage: 12.5+ MB\n"
     ]
    }
   ],
   "source": [
    "df['Date/Time'] = pd.to_datetime(df['Date/Time'])\n",
    "df.info()"
   ]
  },
  {
   "cell_type": "code",
   "execution_count": 59,
   "id": "a858eb90",
   "metadata": {},
   "outputs": [
    {
     "name": "stdout",
     "output_type": "stream",
     "text": [
      "<class 'pandas.core.frame.DataFrame'>\n",
      "RangeIndex: 409565 entries, 0 to 409564\n",
      "Data columns (total 4 columns):\n",
      " #   Column     Non-Null Count   Dtype         \n",
      "---  ------     --------------   -----         \n",
      " 0   Date/Time  409565 non-null  datetime64[ns]\n",
      " 1   Lat        409565 non-null  float64       \n",
      " 2   Lon        409565 non-null  float64       \n",
      " 3   Base       409565 non-null  object        \n",
      "dtypes: datetime64[ns](1), float64(2), object(1)\n",
      "memory usage: 12.5+ MB\n"
     ]
    }
   ],
   "source": [
    "df.info()"
   ]
  },
  {
   "cell_type": "code",
   "execution_count": 60,
   "id": "3eb7bbcf",
   "metadata": {},
   "outputs": [],
   "source": [
    "df['Lat'] = df['Lat'].astype('float32')\n",
    "df['Lon'] = df['Lon'].astype('float32')"
   ]
  },
  {
   "cell_type": "code",
   "execution_count": 61,
   "id": "98818001",
   "metadata": {},
   "outputs": [
    {
     "data": {
      "text/html": [
       "<div>\n",
       "<style scoped>\n",
       "    .dataframe tbody tr th:only-of-type {\n",
       "        vertical-align: middle;\n",
       "    }\n",
       "\n",
       "    .dataframe tbody tr th {\n",
       "        vertical-align: top;\n",
       "    }\n",
       "\n",
       "    .dataframe thead th {\n",
       "        text-align: right;\n",
       "    }\n",
       "</style>\n",
       "<table border=\"1\" class=\"dataframe\">\n",
       "  <thead>\n",
       "    <tr style=\"text-align: right;\">\n",
       "      <th></th>\n",
       "      <th>Date/Time</th>\n",
       "      <th>Lat</th>\n",
       "      <th>Lon</th>\n",
       "      <th>Base</th>\n",
       "    </tr>\n",
       "  </thead>\n",
       "  <tbody>\n",
       "    <tr>\n",
       "      <th>0</th>\n",
       "      <td>2019-09-01 00:01:00</td>\n",
       "      <td>40.220100</td>\n",
       "      <td>-74.002098</td>\n",
       "      <td>B02512</td>\n",
       "    </tr>\n",
       "    <tr>\n",
       "      <th>1</th>\n",
       "      <td>2019-09-01 00:01:00</td>\n",
       "      <td>40.750000</td>\n",
       "      <td>-74.002701</td>\n",
       "      <td>B02512</td>\n",
       "    </tr>\n",
       "    <tr>\n",
       "      <th>2</th>\n",
       "      <td>2019-09-01 00:03:00</td>\n",
       "      <td>40.755901</td>\n",
       "      <td>-73.986397</td>\n",
       "      <td>B02512</td>\n",
       "    </tr>\n",
       "    <tr>\n",
       "      <th>3</th>\n",
       "      <td>2019-09-01 00:06:00</td>\n",
       "      <td>40.744999</td>\n",
       "      <td>-73.988899</td>\n",
       "      <td>B02512</td>\n",
       "    </tr>\n",
       "    <tr>\n",
       "      <th>4</th>\n",
       "      <td>2019-09-01 00:11:00</td>\n",
       "      <td>40.814499</td>\n",
       "      <td>-73.944397</td>\n",
       "      <td>B02512</td>\n",
       "    </tr>\n",
       "  </tbody>\n",
       "</table>\n",
       "</div>"
      ],
      "text/plain": [
       "            Date/Time        Lat        Lon    Base\n",
       "0 2019-09-01 00:01:00  40.220100 -74.002098  B02512\n",
       "1 2019-09-01 00:01:00  40.750000 -74.002701  B02512\n",
       "2 2019-09-01 00:03:00  40.755901 -73.986397  B02512\n",
       "3 2019-09-01 00:06:00  40.744999 -73.988899  B02512\n",
       "4 2019-09-01 00:11:00  40.814499 -73.944397  B02512"
      ]
     },
     "execution_count": 61,
     "metadata": {},
     "output_type": "execute_result"
    }
   ],
   "source": [
    "df.head()"
   ]
  },
  {
   "cell_type": "code",
   "execution_count": 62,
   "id": "69aed23f",
   "metadata": {},
   "outputs": [],
   "source": [
    "df['day'] = df['Date/Time'].dt.day\n"
   ]
  },
  {
   "cell_type": "code",
   "execution_count": 63,
   "id": "be01ab60",
   "metadata": {},
   "outputs": [],
   "source": [
    "df['month'] = df['Date/Time'].dt.month"
   ]
  },
  {
   "cell_type": "code",
   "execution_count": 64,
   "id": "636c1762",
   "metadata": {},
   "outputs": [],
   "source": [
    "df['weekday'] = df['Date/Time'].dt.weekday"
   ]
  },
  {
   "cell_type": "code",
   "execution_count": 65,
   "id": "9b194438",
   "metadata": {},
   "outputs": [],
   "source": [
    "df['hrs'] = df['Date/Time'].dt.hour"
   ]
  },
  {
   "cell_type": "code",
   "execution_count": 66,
   "id": "050aa7f9",
   "metadata": {},
   "outputs": [
    {
     "data": {
      "text/plain": [
       "Date/Time    0\n",
       "Lat          0\n",
       "Lon          0\n",
       "Base         0\n",
       "day          0\n",
       "month        0\n",
       "weekday      0\n",
       "hrs          0\n",
       "dtype: int64"
      ]
     },
     "execution_count": 66,
     "metadata": {},
     "output_type": "execute_result"
    }
   ],
   "source": [
    "df.isna().sum()"
   ]
  },
  {
   "cell_type": "code",
   "execution_count": 67,
   "id": "f1bfdf11",
   "metadata": {},
   "outputs": [],
   "source": [
    "import seaborn as sns"
   ]
  },
  {
   "cell_type": "code",
   "execution_count": 78,
   "id": "c2348aab",
   "metadata": {},
   "outputs": [
    {
     "data": {
      "text/plain": [
       "<seaborn.axisgrid.FacetGrid at 0x2109a041130>"
      ]
     },
     "execution_count": 78,
     "metadata": {},
     "output_type": "execute_result"
    },
    {
     "data": {
      "image/png": "[encoded data removed]",
      "text/plain": [
       "<Figure size 360x360 with 1 Axes>"
      ]
     },
     "metadata": {
      "needs_background": "light"
     },
     "output_type": "display_data"
    }
   ],
   "source": [
    "sns.displot(df['hrs'])"
   ]
  },
  {
   "cell_type": "code",
   "execution_count": 79,
   "id": "3b0479c3",
   "metadata": {},
   "outputs": [
    {
     "data": {
      "text/plain": [
       "<AxesSubplot:xlabel='Lat', ylabel='Lon'>"
      ]
     },
     "execution_count": 79,
     "metadata": {},
     "output_type": "execute_result"
    },
    {
     "data": {
      "image/png": "[encoded data removed]",
      "text/plain": [
       "<Figure size 432x288 with 1 Axes>"
      ]
     },
     "metadata": {
      "needs_background": "light"
     },
     "output_type": "display_data"
    }
   ],
   "source": [
    "sns.scatterplot(x = 'Lat',y = 'Lon',hue='weekday',data=df)"
   ]
  },
  {
   "cell_type": "code",
   "execution_count": 80,
   "id": "7fe3fb2b",
   "metadata": {},
   "outputs": [],
   "source": [
    "df1 = df.groupby(['weekday','hrs']).apply(lambda x:len(x))"
   ]
  },
  {
   "cell_type": "code",
   "execution_count": 86,
   "id": "1545160e",
   "metadata": {},
   "outputs": [
    {
     "data": {
      "text/html": [
       "<div>\n",
       "<style scoped>\n",
       "    .dataframe tbody tr th:only-of-type {\n",
       "        vertical-align: middle;\n",
       "    }\n",
       "\n",
       "    .dataframe tbody tr th {\n",
       "        vertical-align: top;\n",
       "    }\n",
       "\n",
       "    .dataframe thead th {\n",
       "        text-align: right;\n",
       "    }\n",
       "</style>\n",
       "<table border=\"1\" class=\"dataframe\">\n",
       "  <thead>\n",
       "    <tr style=\"text-align: right;\">\n",
       "      <th>hrs</th>\n",
       "      <th>0</th>\n",
       "      <th>1</th>\n",
       "      <th>2</th>\n",
       "      <th>3</th>\n",
       "      <th>4</th>\n",
       "      <th>5</th>\n",
       "      <th>6</th>\n",
       "      <th>7</th>\n",
       "      <th>8</th>\n",
       "      <th>9</th>\n",
       "      <th>...</th>\n",
       "      <th>14</th>\n",
       "      <th>15</th>\n",
       "      <th>16</th>\n",
       "      <th>17</th>\n",
       "      <th>18</th>\n",
       "      <th>19</th>\n",
       "      <th>20</th>\n",
       "      <th>21</th>\n",
       "      <th>22</th>\n",
       "      <th>23</th>\n",
       "    </tr>\n",
       "    <tr>\n",
       "      <th>weekday</th>\n",
       "      <th></th>\n",
       "      <th></th>\n",
       "      <th></th>\n",
       "      <th></th>\n",
       "      <th></th>\n",
       "      <th></th>\n",
       "      <th></th>\n",
       "      <th></th>\n",
       "      <th></th>\n",
       "      <th></th>\n",
       "      <th></th>\n",
       "      <th></th>\n",
       "      <th></th>\n",
       "      <th></th>\n",
       "      <th></th>\n",
       "      <th></th>\n",
       "      <th></th>\n",
       "      <th></th>\n",
       "      <th></th>\n",
       "      <th></th>\n",
       "      <th></th>\n",
       "    </tr>\n",
       "  </thead>\n",
       "  <tbody>\n",
       "    <tr>\n",
       "      <th>0</th>\n",
       "      <td>521</td>\n",
       "      <td>305</td>\n",
       "      <td>230</td>\n",
       "      <td>535</td>\n",
       "      <td>925</td>\n",
       "      <td>1684</td>\n",
       "      <td>2714</td>\n",
       "      <td>3374</td>\n",
       "      <td>3513</td>\n",
       "      <td>2586</td>\n",
       "      <td>...</td>\n",
       "      <td>3429</td>\n",
       "      <td>3953</td>\n",
       "      <td>4283</td>\n",
       "      <td>4762</td>\n",
       "      <td>4642</td>\n",
       "      <td>4144</td>\n",
       "      <td>3939</td>\n",
       "      <td>3423</td>\n",
       "      <td>2549</td>\n",
       "      <td>1559</td>\n",
       "    </tr>\n",
       "    <tr>\n",
       "      <th>1</th>\n",
       "      <td>713</td>\n",
       "      <td>461</td>\n",
       "      <td>296</td>\n",
       "      <td>442</td>\n",
       "      <td>752</td>\n",
       "      <td>1552</td>\n",
       "      <td>2736</td>\n",
       "      <td>3363</td>\n",
       "      <td>3454</td>\n",
       "      <td>2828</td>\n",
       "      <td>...</td>\n",
       "      <td>3440</td>\n",
       "      <td>4253</td>\n",
       "      <td>4805</td>\n",
       "      <td>5242</td>\n",
       "      <td>5215</td>\n",
       "      <td>4756</td>\n",
       "      <td>4624</td>\n",
       "      <td>3967</td>\n",
       "      <td>3212</td>\n",
       "      <td>1818</td>\n",
       "    </tr>\n",
       "    <tr>\n",
       "      <th>2</th>\n",
       "      <td>972</td>\n",
       "      <td>562</td>\n",
       "      <td>365</td>\n",
       "      <td>526</td>\n",
       "      <td>829</td>\n",
       "      <td>1086</td>\n",
       "      <td>2410</td>\n",
       "      <td>3316</td>\n",
       "      <td>3543</td>\n",
       "      <td>2863</td>\n",
       "      <td>...</td>\n",
       "      <td>3777</td>\n",
       "      <td>4546</td>\n",
       "      <td>5089</td>\n",
       "      <td>5587</td>\n",
       "      <td>5995</td>\n",
       "      <td>5532</td>\n",
       "      <td>5154</td>\n",
       "      <td>4876</td>\n",
       "      <td>3886</td>\n",
       "      <td>2637</td>\n",
       "    </tr>\n",
       "    <tr>\n",
       "      <th>3</th>\n",
       "      <td>1251</td>\n",
       "      <td>752</td>\n",
       "      <td>495</td>\n",
       "      <td>633</td>\n",
       "      <td>946</td>\n",
       "      <td>1647</td>\n",
       "      <td>2620</td>\n",
       "      <td>3374</td>\n",
       "      <td>3605</td>\n",
       "      <td>3003</td>\n",
       "      <td>...</td>\n",
       "      <td>3774</td>\n",
       "      <td>4391</td>\n",
       "      <td>4983</td>\n",
       "      <td>5653</td>\n",
       "      <td>6066</td>\n",
       "      <td>6047</td>\n",
       "      <td>5280</td>\n",
       "      <td>5503</td>\n",
       "      <td>5541</td>\n",
       "      <td>4712</td>\n",
       "    </tr>\n",
       "    <tr>\n",
       "      <th>4</th>\n",
       "      <td>1706</td>\n",
       "      <td>1122</td>\n",
       "      <td>706</td>\n",
       "      <td>476</td>\n",
       "      <td>348</td>\n",
       "      <td>340</td>\n",
       "      <td>526</td>\n",
       "      <td>710</td>\n",
       "      <td>953</td>\n",
       "      <td>1085</td>\n",
       "      <td>...</td>\n",
       "      <td>2133</td>\n",
       "      <td>2414</td>\n",
       "      <td>2579</td>\n",
       "      <td>2776</td>\n",
       "      <td>2854</td>\n",
       "      <td>2742</td>\n",
       "      <td>2422</td>\n",
       "      <td>2713</td>\n",
       "      <td>3034</td>\n",
       "      <td>2649</td>\n",
       "    </tr>\n",
       "    <tr>\n",
       "      <th>5</th>\n",
       "      <td>1830</td>\n",
       "      <td>1237</td>\n",
       "      <td>823</td>\n",
       "      <td>566</td>\n",
       "      <td>334</td>\n",
       "      <td>358</td>\n",
       "      <td>387</td>\n",
       "      <td>564</td>\n",
       "      <td>813</td>\n",
       "      <td>1024</td>\n",
       "      <td>...</td>\n",
       "      <td>1811</td>\n",
       "      <td>1988</td>\n",
       "      <td>2147</td>\n",
       "      <td>2036</td>\n",
       "      <td>1909</td>\n",
       "      <td>1708</td>\n",
       "      <td>1616</td>\n",
       "      <td>1444</td>\n",
       "      <td>1162</td>\n",
       "      <td>629</td>\n",
       "    </tr>\n",
       "    <tr>\n",
       "      <th>6</th>\n",
       "      <td>1022</td>\n",
       "      <td>691</td>\n",
       "      <td>520</td>\n",
       "      <td>702</td>\n",
       "      <td>776</td>\n",
       "      <td>1193</td>\n",
       "      <td>1552</td>\n",
       "      <td>2100</td>\n",
       "      <td>2285</td>\n",
       "      <td>2053</td>\n",
       "      <td>...</td>\n",
       "      <td>2799</td>\n",
       "      <td>3240</td>\n",
       "      <td>3565</td>\n",
       "      <td>3595</td>\n",
       "      <td>3469</td>\n",
       "      <td>3222</td>\n",
       "      <td>3004</td>\n",
       "      <td>2542</td>\n",
       "      <td>1935</td>\n",
       "      <td>1098</td>\n",
       "    </tr>\n",
       "  </tbody>\n",
       "</table>\n",
       "<p>7 rows × 24 columns</p>\n",
       "</div>"
      ],
      "text/plain": [
       "hrs        0     1    2    3    4     5     6     7     8     9   ...    14  \\\n",
       "weekday                                                           ...         \n",
       "0         521   305  230  535  925  1684  2714  3374  3513  2586  ...  3429   \n",
       "1         713   461  296  442  752  1552  2736  3363  3454  2828  ...  3440   \n",
       "2         972   562  365  526  829  1086  2410  3316  3543  2863  ...  3777   \n",
       "3        1251   752  495  633  946  1647  2620  3374  3605  3003  ...  3774   \n",
       "4        1706  1122  706  476  348   340   526   710   953  1085  ...  2133   \n",
       "5        1830  1237  823  566  334   358   387   564   813  1024  ...  1811   \n",
       "6        1022   691  520  702  776  1193  1552  2100  2285  2053  ...  2799   \n",
       "\n",
       "hrs        15    16    17    18    19    20    21    22    23  \n",
       "weekday                                                        \n",
       "0        3953  4283  4762  4642  4144  3939  3423  2549  1559  \n",
       "1        4253  4805  5242  5215  4756  4624  3967  3212  1818  \n",
       "2        4546  5089  5587  5995  5532  5154  4876  3886  2637  \n",
       "3        4391  4983  5653  6066  6047  5280  5503  5541  4712  \n",
       "4        2414  2579  2776  2854  2742  2422  2713  3034  2649  \n",
       "5        1988  2147  2036  1909  1708  1616  1444  1162   629  \n",
       "6        3240  3565  3595  3469  3222  3004  2542  1935  1098  \n",
       "\n",
       "[7 rows x 24 columns]"
      ]
     },
     "execution_count": 86,
     "metadata": {},
     "output_type": "execute_result"
    }
   ],
   "source": [
    "df1"
   ]
  },
  {
   "cell_type": "code",
   "execution_count": 93,
   "id": "3312df5d",
   "metadata": {},
   "outputs": [],
   "source": [
    "df1 = df1.unstack()\n"
   ]
  },
  {
   "cell_type": "code",
   "execution_count": 94,
   "id": "08ed3a34",
   "metadata": {},
   "outputs": [
    {
     "data": {
      "text/html": [
       "<div>\n",
       "<style scoped>\n",
       "    .dataframe tbody tr th:only-of-type {\n",
       "        vertical-align: middle;\n",
       "    }\n",
       "\n",
       "    .dataframe tbody tr th {\n",
       "        vertical-align: top;\n",
       "    }\n",
       "\n",
       "    .dataframe thead th {\n",
       "        text-align: right;\n",
       "    }\n",
       "</style>\n",
       "<table border=\"1\" class=\"dataframe\">\n",
       "  <thead>\n",
       "    <tr style=\"text-align: right;\">\n",
       "      <th>weekday</th>\n",
       "      <th>0</th>\n",
       "      <th>1</th>\n",
       "      <th>2</th>\n",
       "      <th>3</th>\n",
       "      <th>4</th>\n",
       "      <th>5</th>\n",
       "      <th>6</th>\n",
       "    </tr>\n",
       "    <tr>\n",
       "      <th>hrs</th>\n",
       "      <th></th>\n",
       "      <th></th>\n",
       "      <th></th>\n",
       "      <th></th>\n",
       "      <th></th>\n",
       "      <th></th>\n",
       "      <th></th>\n",
       "    </tr>\n",
       "  </thead>\n",
       "  <tbody>\n",
       "    <tr>\n",
       "      <th>0</th>\n",
       "      <td>521</td>\n",
       "      <td>713</td>\n",
       "      <td>972</td>\n",
       "      <td>1251</td>\n",
       "      <td>1706</td>\n",
       "      <td>1830</td>\n",
       "      <td>1022</td>\n",
       "    </tr>\n",
       "    <tr>\n",
       "      <th>1</th>\n",
       "      <td>305</td>\n",
       "      <td>461</td>\n",
       "      <td>562</td>\n",
       "      <td>752</td>\n",
       "      <td>1122</td>\n",
       "      <td>1237</td>\n",
       "      <td>691</td>\n",
       "    </tr>\n",
       "    <tr>\n",
       "      <th>2</th>\n",
       "      <td>230</td>\n",
       "      <td>296</td>\n",
       "      <td>365</td>\n",
       "      <td>495</td>\n",
       "      <td>706</td>\n",
       "      <td>823</td>\n",
       "      <td>520</td>\n",
       "    </tr>\n",
       "    <tr>\n",
       "      <th>3</th>\n",
       "      <td>535</td>\n",
       "      <td>442</td>\n",
       "      <td>526</td>\n",
       "      <td>633</td>\n",
       "      <td>476</td>\n",
       "      <td>566</td>\n",
       "      <td>702</td>\n",
       "    </tr>\n",
       "    <tr>\n",
       "      <th>4</th>\n",
       "      <td>925</td>\n",
       "      <td>752</td>\n",
       "      <td>829</td>\n",
       "      <td>946</td>\n",
       "      <td>348</td>\n",
       "      <td>334</td>\n",
       "      <td>776</td>\n",
       "    </tr>\n",
       "    <tr>\n",
       "      <th>5</th>\n",
       "      <td>1684</td>\n",
       "      <td>1552</td>\n",
       "      <td>1086</td>\n",
       "      <td>1647</td>\n",
       "      <td>340</td>\n",
       "      <td>358</td>\n",
       "      <td>1193</td>\n",
       "    </tr>\n",
       "    <tr>\n",
       "      <th>6</th>\n",
       "      <td>2714</td>\n",
       "      <td>2736</td>\n",
       "      <td>2410</td>\n",
       "      <td>2620</td>\n",
       "      <td>526</td>\n",
       "      <td>387</td>\n",
       "      <td>1552</td>\n",
       "    </tr>\n",
       "    <tr>\n",
       "      <th>7</th>\n",
       "      <td>3374</td>\n",
       "      <td>3363</td>\n",
       "      <td>3316</td>\n",
       "      <td>3374</td>\n",
       "      <td>710</td>\n",
       "      <td>564</td>\n",
       "      <td>2100</td>\n",
       "    </tr>\n",
       "    <tr>\n",
       "      <th>8</th>\n",
       "      <td>3513</td>\n",
       "      <td>3454</td>\n",
       "      <td>3543</td>\n",
       "      <td>3605</td>\n",
       "      <td>953</td>\n",
       "      <td>813</td>\n",
       "      <td>2285</td>\n",
       "    </tr>\n",
       "    <tr>\n",
       "      <th>9</th>\n",
       "      <td>2586</td>\n",
       "      <td>2828</td>\n",
       "      <td>2863</td>\n",
       "      <td>3003</td>\n",
       "      <td>1085</td>\n",
       "      <td>1024</td>\n",
       "      <td>2053</td>\n",
       "    </tr>\n",
       "    <tr>\n",
       "      <th>10</th>\n",
       "      <td>2455</td>\n",
       "      <td>2518</td>\n",
       "      <td>2635</td>\n",
       "      <td>2843</td>\n",
       "      <td>1286</td>\n",
       "      <td>1227</td>\n",
       "      <td>2078</td>\n",
       "    </tr>\n",
       "    <tr>\n",
       "      <th>11</th>\n",
       "      <td>2432</td>\n",
       "      <td>2590</td>\n",
       "      <td>2731</td>\n",
       "      <td>2716</td>\n",
       "      <td>1475</td>\n",
       "      <td>1397</td>\n",
       "      <td>2199</td>\n",
       "    </tr>\n",
       "    <tr>\n",
       "      <th>12</th>\n",
       "      <td>2507</td>\n",
       "      <td>2577</td>\n",
       "      <td>2753</td>\n",
       "      <td>2766</td>\n",
       "      <td>1600</td>\n",
       "      <td>1485</td>\n",
       "      <td>2211</td>\n",
       "    </tr>\n",
       "    <tr>\n",
       "      <th>13</th>\n",
       "      <td>2927</td>\n",
       "      <td>2927</td>\n",
       "      <td>3129</td>\n",
       "      <td>3258</td>\n",
       "      <td>1871</td>\n",
       "      <td>1639</td>\n",
       "      <td>2470</td>\n",
       "    </tr>\n",
       "    <tr>\n",
       "      <th>14</th>\n",
       "      <td>3429</td>\n",
       "      <td>3440</td>\n",
       "      <td>3777</td>\n",
       "      <td>3774</td>\n",
       "      <td>2133</td>\n",
       "      <td>1811</td>\n",
       "      <td>2799</td>\n",
       "    </tr>\n",
       "    <tr>\n",
       "      <th>15</th>\n",
       "      <td>3953</td>\n",
       "      <td>4253</td>\n",
       "      <td>4546</td>\n",
       "      <td>4391</td>\n",
       "      <td>2414</td>\n",
       "      <td>1988</td>\n",
       "      <td>3240</td>\n",
       "    </tr>\n",
       "    <tr>\n",
       "      <th>16</th>\n",
       "      <td>4283</td>\n",
       "      <td>4805</td>\n",
       "      <td>5089</td>\n",
       "      <td>4983</td>\n",
       "      <td>2579</td>\n",
       "      <td>2147</td>\n",
       "      <td>3565</td>\n",
       "    </tr>\n",
       "    <tr>\n",
       "      <th>17</th>\n",
       "      <td>4762</td>\n",
       "      <td>5242</td>\n",
       "      <td>5587</td>\n",
       "      <td>5653</td>\n",
       "      <td>2776</td>\n",
       "      <td>2036</td>\n",
       "      <td>3595</td>\n",
       "    </tr>\n",
       "    <tr>\n",
       "      <th>18</th>\n",
       "      <td>4642</td>\n",
       "      <td>5215</td>\n",
       "      <td>5995</td>\n",
       "      <td>6066</td>\n",
       "      <td>2854</td>\n",
       "      <td>1909</td>\n",
       "      <td>3469</td>\n",
       "    </tr>\n",
       "    <tr>\n",
       "      <th>19</th>\n",
       "      <td>4144</td>\n",
       "      <td>4756</td>\n",
       "      <td>5532</td>\n",
       "      <td>6047</td>\n",
       "      <td>2742</td>\n",
       "      <td>1708</td>\n",
       "      <td>3222</td>\n",
       "    </tr>\n",
       "    <tr>\n",
       "      <th>20</th>\n",
       "      <td>3939</td>\n",
       "      <td>4624</td>\n",
       "      <td>5154</td>\n",
       "      <td>5280</td>\n",
       "      <td>2422</td>\n",
       "      <td>1616</td>\n",
       "      <td>3004</td>\n",
       "    </tr>\n",
       "    <tr>\n",
       "      <th>21</th>\n",
       "      <td>3423</td>\n",
       "      <td>3967</td>\n",
       "      <td>4876</td>\n",
       "      <td>5503</td>\n",
       "      <td>2713</td>\n",
       "      <td>1444</td>\n",
       "      <td>2542</td>\n",
       "    </tr>\n",
       "    <tr>\n",
       "      <th>22</th>\n",
       "      <td>2549</td>\n",
       "      <td>3212</td>\n",
       "      <td>3886</td>\n",
       "      <td>5541</td>\n",
       "      <td>3034</td>\n",
       "      <td>1162</td>\n",
       "      <td>1935</td>\n",
       "    </tr>\n",
       "    <tr>\n",
       "      <th>23</th>\n",
       "      <td>1559</td>\n",
       "      <td>1818</td>\n",
       "      <td>2637</td>\n",
       "      <td>4712</td>\n",
       "      <td>2649</td>\n",
       "      <td>629</td>\n",
       "      <td>1098</td>\n",
       "    </tr>\n",
       "  </tbody>\n",
       "</table>\n",
       "</div>"
      ],
      "text/plain": [
       "weekday     0     1     2     3     4     5     6\n",
       "hrs                                              \n",
       "0         521   713   972  1251  1706  1830  1022\n",
       "1         305   461   562   752  1122  1237   691\n",
       "2         230   296   365   495   706   823   520\n",
       "3         535   442   526   633   476   566   702\n",
       "4         925   752   829   946   348   334   776\n",
       "5        1684  1552  1086  1647   340   358  1193\n",
       "6        2714  2736  2410  2620   526   387  1552\n",
       "7        3374  3363  3316  3374   710   564  2100\n",
       "8        3513  3454  3543  3605   953   813  2285\n",
       "9        2586  2828  2863  3003  1085  1024  2053\n",
       "10       2455  2518  2635  2843  1286  1227  2078\n",
       "11       2432  2590  2731  2716  1475  1397  2199\n",
       "12       2507  2577  2753  2766  1600  1485  2211\n",
       "13       2927  2927  3129  3258  1871  1639  2470\n",
       "14       3429  3440  3777  3774  2133  1811  2799\n",
       "15       3953  4253  4546  4391  2414  1988  3240\n",
       "16       4283  4805  5089  4983  2579  2147  3565\n",
       "17       4762  5242  5587  5653  2776  2036  3595\n",
       "18       4642  5215  5995  6066  2854  1909  3469\n",
       "19       4144  4756  5532  6047  2742  1708  3222\n",
       "20       3939  4624  5154  5280  2422  1616  3004\n",
       "21       3423  3967  4876  5503  2713  1444  2542\n",
       "22       2549  3212  3886  5541  3034  1162  1935\n",
       "23       1559  1818  2637  4712  2649   629  1098"
      ]
     },
     "execution_count": 94,
     "metadata": {},
     "output_type": "execute_result"
    }
   ],
   "source": [
    "df1"
   ]
  },
  {
   "cell_type": "code",
   "execution_count": 95,
   "id": "9646bc73",
   "metadata": {},
   "outputs": [
    {
     "data": {
      "text/plain": [
       "<AxesSubplot:xlabel='weekday', ylabel='hrs'>"
      ]
     },
     "execution_count": 95,
     "metadata": {},
     "output_type": "execute_result"
    },
    {
     "data": {
      "image/png": "[encoded data removed]",
      "text/plain": [
       "<Figure size 432x288 with 2 Axes>"
      ]
     },
     "metadata": {
      "needs_background": "light"
     },
     "output_type": "display_data"
    }
   ],
   "source": [
    "sns.heatmap(df1)"
   ]
  },
  {
   "cell_type": "code",
   "execution_count": null,
   "id": "e8397f41",
   "metadata": {},
   "outputs": [],
   "source": []
  },
  {
   "cell_type": "markdown",
   "id": "a5928217",
   "metadata": {},
   "source": [
    "correlation shown between weekday and hrs are given above\n"
   ]
  },
  {
   "cell_type": "code",
   "execution_count": 99,
   "id": "259f67ef",
   "metadata": {},
   "outputs": [
    {
     "data": {
      "text/plain": [
       "Int64Index([0, 1, 2, 3, 4, 5, 6], dtype='int64', name='weekday')"
      ]
     },
     "execution_count": 99,
     "metadata": {},
     "output_type": "execute_result"
    }
   ],
   "source": [
    "df1.columns"
   ]
  }
 ],
 "metadata": {
  "kernelspec": {
   "display_name": "Python 3",
   "language": "python",
   "name": "python3"
  },
  "language_info": {
   "codemirror_mode": {
    "name": "ipython",
    "version": 3
   },
   "file_extension": ".py",
   "mimetype": "text/x-python",
   "name": "python",
   "nbconvert_exporter": "python",
   "pygments_lexer": "ipython3",
   "version": "3.8.8"
  }
 },
 "nbformat": 4,
 "nbformat_minor": 5
}
